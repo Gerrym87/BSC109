{
  "nbformat": 4,
  "nbformat_minor": 0,
  "metadata": {
    "colab": {
      "name": "HW#2.ipynb",
      "provenance": []
    },
    "kernelspec": {
      "name": "python3",
      "display_name": "Python 3"
    },
    "language_info": {
      "name": "python"
    }
  },
  "cells": [
    {
      "cell_type": "markdown",
      "metadata": {
        "id": "03AHdwx3708t"
      },
      "source": [
        "#Gathering the user's name#\n",
        "##Gerlando M. Marchetta##\n",
        "\n",
        "*currently employed at NYPD*\n",
        "\n",
        "**senior year at Farmingdale State College**\n",
        "\n",
        "Likes = ***soccer, gaming, and his job***\n",
        "\n",
        "\n"
      ]
    }
  ]
}