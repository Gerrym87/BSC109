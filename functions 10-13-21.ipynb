{
  "nbformat": 4,
  "nbformat_minor": 0,
  "metadata": {
    "colab": {
      "name": "Untitled20.ipynb",
      "provenance": []
    },
    "kernelspec": {
      "name": "python3",
      "display_name": "Python 3"
    },
    "language_info": {
      "name": "python"
    }
  },
  "cells": [
    {
      "cell_type": "markdown",
      "metadata": {
        "id": "OMyUgf3Y1MXq"
      },
      "source": [
        "10-13-21\n"
      ]
    },
    {
      "cell_type": "code",
      "metadata": {
        "colab": {
          "base_uri": "https://localhost:8080/"
        },
        "id": "bsc4rUPszgoq",
        "outputId": "45fda844-d184-487c-becc-770f15b7f02e"
      },
      "source": [
        "#functions with paramters\n",
        "def double_num(num):\n",
        "  print(f\"num is {num}, and now it is {num*2}\")\n",
        "\n",
        "for i in range(1,5):\n",
        "  double_num(i)\n"
      ],
      "execution_count": 2,
      "outputs": [
        {
          "output_type": "stream",
          "name": "stdout",
          "text": [
            "num is 1, and now it is 2\n",
            "num is 2, and now it is 4\n",
            "num is 3, and now it is 6\n",
            "num is 4, and now it is 8\n"
          ]
        }
      ]
    },
    {
      "cell_type": "code",
      "metadata": {
        "colab": {
          "base_uri": "https://localhost:8080/"
        },
        "id": "MHI9mBVo1cVn",
        "outputId": "cbb4af0d-addd-405d-ae5d-e4c4c07b92e8"
      },
      "source": [
        "#function passing multiple parameters\n",
        "def isMe(numFingers, numToes):\n",
        "  print(f\"i have {numFingers} fingers, and {numToes} toes.\")\n",
        "\n",
        "isMe(11,10)\n",
        "\n"
      ],
      "execution_count": 4,
      "outputs": [
        {
          "output_type": "stream",
          "name": "stdout",
          "text": [
            "i have 11 fingers, and 10 toes.\n"
          ]
        }
      ]
    },
    {
      "cell_type": "code",
      "metadata": {
        "colab": {
          "base_uri": "https://localhost:8080/"
        },
        "id": "rp25gUUR23dX",
        "outputId": "51d7a26d-1de6-487f-81a6-11d47ff64e06"
      },
      "source": [
        "#this programs two funstions that\n",
        "# have local variables with the same name.\n",
        "# we are using main here as well\n",
        "\n",
        "def main():\n",
        "  texas()\n",
        "  california()\n",
        "\n",
        "def texas():\n",
        "  birds = 5000\n",
        "  print(f'texas has {birds} birds.')\n",
        "\n",
        "def california():\n",
        "  birds = 8000\n",
        "  print(f'california has {birds} birds.')\n",
        "\n",
        "main()\n",
        "\n",
        "\n"
      ],
      "execution_count": 6,
      "outputs": [
        {
          "output_type": "stream",
          "name": "stdout",
          "text": [
            "texas has 5000 birds.\n",
            "california has 8000 birds.\n"
          ]
        }
      ]
    },
    {
      "cell_type": "code",
      "metadata": {
        "colab": {
          "base_uri": "https://localhost:8080/"
        },
        "id": "unSK3W6R3nHw",
        "outputId": "98890425-b560-4f03-fd9f-1d1702486217"
      },
      "source": [
        "#scope\n",
        "\n",
        "def changeValue(num):\n",
        "  print('the function received num and it is: ', num)\n",
        "  #now add 1 to num and check if it canged outside the function\n",
        "  num += 1\n",
        "\n",
        "#test the function\n",
        "num = 7\n",
        "changeValue(num)\n",
        "print('outside the function num is: ', num)\n",
        "  "
      ],
      "execution_count": 7,
      "outputs": [
        {
          "output_type": "stream",
          "name": "stdout",
          "text": [
            "the function received num and it is:  7\n",
            "outside the function num is:  7\n"
          ]
        }
      ]
    },
    {
      "cell_type": "code",
      "metadata": {
        "colab": {
          "base_uri": "https://localhost:8080/"
        },
        "id": "KueF_QhP423X",
        "outputId": "74f4a56c-55d2-4974-a537-3263c0dbeac5"
      },
      "source": [
        "#keep tracj of your inputs with name\n",
        "\n",
        "def nameParameters(principal, rate, period, time):\n",
        "  val = principal*(1+rate/time)**(period*time)\n",
        "  print(f\"${val:.2f}\")\n",
        "\n",
        "#run the function\n",
        "nameParameters(rate = .05, period = 10, time = 2, principal = 100)\n",
        "  "
      ],
      "execution_count": 8,
      "outputs": [
        {
          "output_type": "stream",
          "name": "stdout",
          "text": [
            "$163.86\n"
          ]
        }
      ]
    },
    {
      "cell_type": "code",
      "metadata": {
        "colab": {
          "base_uri": "https://localhost:8080/"
        },
        "id": "0DpP4rgC60Ck",
        "outputId": "10ae2270-25a3-4058-d33f-5bfdce35d2e1"
      },
      "source": [
        "#global variables\n",
        "#global variables make debugging difficult\n",
        "#functions that use global variables usually depend on it\n",
        "#global variables make a program hard to understand\n",
        "#global constant are not a bad idea though\n",
        "\n",
        "myVal = 5\n",
        "\n",
        "def checkIt():\n",
        "  print(myVal)\n",
        "\n",
        "#call the function\n",
        "checkIt()\n",
        "\n"
      ],
      "execution_count": 10,
      "outputs": [
        {
          "output_type": "stream",
          "name": "stdout",
          "text": [
            "5\n"
          ]
        }
      ]
    },
    {
      "cell_type": "code",
      "metadata": {
        "colab": {
          "base_uri": "https://localhost:8080/"
        },
        "id": "t9eMmTU47mcX",
        "outputId": "45e741f0-fa99-4521-d988-5073a849b35b"
      },
      "source": [
        "#random numbers\n",
        "\n",
        "import random \n",
        "\n",
        "#prints a number between 1 and 100, inclusive\n",
        "number = random.randint (1, 100)\n",
        "print(number)\n"
      ],
      "execution_count": 12,
      "outputs": [
        {
          "output_type": "stream",
          "name": "stdout",
          "text": [
            "7\n"
          ]
        }
      ]
    },
    {
      "cell_type": "code",
      "metadata": {
        "colab": {
          "base_uri": "https://localhost:8080/"
        },
        "id": "BTroPSeh7-U5",
        "outputId": "1ea789b4-1a1a-4afc-dddd-446b15506a58"
      },
      "source": [
        "import random as r\n",
        "\n",
        "number = r.randint (1, 100)\n",
        "print(r)\n"
      ],
      "execution_count": 15,
      "outputs": [
        {
          "output_type": "stream",
          "name": "stdout",
          "text": [
            "<module 'random' from '/usr/lib/python3.7/random.py'>\n"
          ]
        }
      ]
    },
    {
      "cell_type": "code",
      "metadata": {
        "colab": {
          "base_uri": "https://localhost:8080/"
        },
        "id": "Si3PDrri8RbG",
        "outputId": "eaaaaa7e-22b1-4041-afe8-03d3a5536591"
      },
      "source": [
        "#get a random range between 0 and 9\n",
        "\n",
        "number = random.randrange(10)\n",
        "print(number)\n",
        "\n",
        "#get a random range between 5 and 19\n",
        "number = random.randrange(5, 19)\n",
        "print(number)\n",
        "\n",
        "#get a random number from the sequence of numbers: [0, 10, 20, 30, 40, 50, 60, 70, 80, 90, 100]\n",
        "number = random.randrange(0, 101, 10)\n",
        "print(number)\n",
        "\n",
        "#get a random number between 0 and 1 (as a float)\n",
        "number = random.random()\n",
        "print(number)\n",
        "\n",
        "#change the initial sarting position of the random number generator with a seed\n",
        "random.seed(10)\n",
        "random.seed(0)\n",
        "random.seed(26)\n"
      ],
      "execution_count": 16,
      "outputs": [
        {
          "output_type": "stream",
          "name": "stdout",
          "text": [
            "8\n",
            "15\n",
            "70\n",
            "0.16520073245134248\n"
          ]
        }
      ]
    },
    {
      "cell_type": "code",
      "metadata": {
        "id": "rKf-N6tZ_L0D"
      },
      "source": [
        "#get a random number\n",
        "\n",
        "import random\n",
        "\n",
        "def getNum():\n",
        "  return random.randint(1, 100)\n",
        "\n",
        "x = getNum()  "
      ],
      "execution_count": 18,
      "outputs": []
    },
    {
      "cell_type": "code",
      "metadata": {
        "colab": {
          "base_uri": "https://localhost:8080/"
        },
        "id": "iRmXPcMx_i40",
        "outputId": "cb487ab9-c314-4bf5-e75a-947f5b3126f6"
      },
      "source": [
        "#roll a dice\n",
        "\n",
        "def dice():\n",
        "  return random.randint(1, 6)\n",
        "\n",
        "#run funtion\n",
        "for i in range(10):\n",
        "  print(f'the random dice roll is: {dice()}')  \n"
      ],
      "execution_count": 20,
      "outputs": [
        {
          "output_type": "stream",
          "name": "stdout",
          "text": [
            "the random dice roll is: 6\n",
            "the random dice roll is: 2\n",
            "the random dice roll is: 4\n",
            "the random dice roll is: 5\n",
            "the random dice roll is: 5\n",
            "the random dice roll is: 1\n",
            "the random dice roll is: 2\n",
            "the random dice roll is: 4\n",
            "the random dice roll is: 1\n",
            "the random dice roll is: 6\n"
          ]
        }
      ]
    }
  ]
}