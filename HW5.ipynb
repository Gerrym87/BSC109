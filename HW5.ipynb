{
  "nbformat": 4,
  "nbformat_minor": 0,
  "metadata": {
    "colab": {
      "name": "Untitled16.ipynb",
      "provenance": []
    },
    "kernelspec": {
      "name": "python3",
      "display_name": "Python 3"
    },
    "language_info": {
      "name": "python"
    }
  },
  "cells": [
    {
      "cell_type": "code",
      "metadata": {
        "colab": {
          "base_uri": "https://localhost:8080/"
        },
        "id": "rC1TvwgGSaGO",
        "outputId": "158e460a-4835-4b0b-be94-1ee293d6ab5a"
      },
      "source": [
        "password = 'Gerry_1987'\n",
        "password = input('what is the password?')\n",
        "while password != 'Gerry_1987':\n",
        "  print('wrong password')\n",
        "  print('you need an uppercase, a lowercase, a number, and a special charcter')\n",
        "  password = input()\n",
        "\n",
        "print('access granted')\n",
        "\n"
      ],
      "execution_count": 5,
      "outputs": [
        {
          "output_type": "stream",
          "name": "stdout",
          "text": [
            "what is the password?gerry1987\n",
            "wrong password\n",
            "you need an uppercase, a lowercase, a number, and a special charcter\n",
            "Gerry_1987\n",
            "access granted\n"
          ]
        }
      ]
    },
    {
      "cell_type": "code",
      "metadata": {
        "colab": {
          "base_uri": "https://localhost:8080/"
        },
        "id": "RgPqAlvZTTn0",
        "outputId": "8b5acd6d-c723-4cce-cc0d-162e1d0b852c"
      },
      "source": [
        "for i in range(1,1000):\n",
        "  val = str(i)\n",
        "  for position in val:\n",
        "    if(position == '3'):\n",
        "      print(i,end = '|')\n",
        "  \n",
        "print()\n",
        "print()    "
      ],
      "execution_count": 9,
      "outputs": [
        {
          "output_type": "stream",
          "name": "stdout",
          "text": [
            "3|13|23|30|31|32|33|33|34|35|36|37|38|39|43|53|63|73|83|93|103|113|123|130|131|132|133|133|134|135|136|137|138|139|143|153|163|173|183|193|203|213|223|230|231|232|233|233|234|235|236|237|238|239|243|253|263|273|283|293|300|301|302|303|303|304|305|306|307|308|309|310|311|312|313|313|314|315|316|317|318|319|320|321|322|323|323|324|325|326|327|328|329|330|330|331|331|332|332|333|333|333|334|334|335|335|336|336|337|337|338|338|339|339|340|341|342|343|343|344|345|346|347|348|349|350|351|352|353|353|354|355|356|357|358|359|360|361|362|363|363|364|365|366|367|368|369|370|371|372|373|373|374|375|376|377|378|379|380|381|382|383|383|384|385|386|387|388|389|390|391|392|393|393|394|395|396|397|398|399|403|413|423|430|431|432|433|433|434|435|436|437|438|439|443|453|463|473|483|493|503|513|523|530|531|532|533|533|534|535|536|537|538|539|543|553|563|573|583|593|603|613|623|630|631|632|633|633|634|635|636|637|638|639|643|653|663|673|683|693|703|713|723|730|731|732|733|733|734|735|736|737|738|739|743|753|763|773|783|793|803|813|823|830|831|832|833|833|834|835|836|837|838|839|843|853|863|873|883|893|903|913|923|930|931|932|933|933|934|935|936|937|938|939|943|953|963|973|983|993|\n",
            "\n"
          ]
        }
      ]
    }
  ]
}