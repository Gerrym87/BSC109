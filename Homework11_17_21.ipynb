{
  "nbformat": 4,
  "nbformat_minor": 0,
  "metadata": {
    "colab": {
      "name": "Homework11/17/21.ipynb",
      "provenance": []
    },
    "kernelspec": {
      "name": "python3",
      "display_name": "Python 3"
    },
    "language_info": {
      "name": "python"
    }
  },
  "cells": [
    {
      "cell_type": "code",
      "metadata": {
        "colab": {
          "base_uri": "https://localhost:8080/"
        },
        "id": "u8pjtZJPvObD",
        "outputId": "39e5221d-629a-4ee5-b00e-9a5e5f6c2561"
      },
      "source": [
        "import pandas as pd \n",
        "import numpy as np\n",
        "import matplotlib.pyplot as plt\n",
        "import missingno as msno\n",
        "import seaborn as sns\n",
        "\n",
        "df = pd.read_csv(\"https://raw.githubusercontent.com/Gerrym87/BSC109/main/C%20Ronaldo.csv\")\n",
        "print(df)"
      ],
      "execution_count": 3,
      "outputs": [
        {
          "output_type": "stream",
          "name": "stdout",
          "text": [
            "     Season  Goals Assists  Y Cards R Cards\n",
            "0     21/22      4       1        2       -\n",
            "1     21/22      0       0        1       -\n",
            "2     20/21     29       2        3       -\n",
            "3     19/20     31       5        3       -\n",
            "4     18/19     21       8        3       -\n",
            "5     17/18     26       5        1       -\n",
            "6     16/17     25       6        4       -\n",
            "7     15/16     35       9        2       -\n",
            "8     14/15     48      15        5       1\n",
            "9     13/14     31       9        4       1\n",
            "10  2012/13     34       -        9       -\n",
            "11  2011/12     46       -        4       -\n",
            "12  2010/11     40       -        3       -\n",
            "13  2009/10     26       -        4       2\n",
            "14  2008/09     18       6        6       1\n",
            "15  2007/08     31       6        5       1\n",
            "16  2006/07     17       8        2       -\n",
            "17  2005/06      9       6        8       1\n",
            "18  2004/05      5       4        3       -\n",
            "19  2003/04      4       4        4       1\n"
          ]
        }
      ]
    },
    {
      "cell_type": "code",
      "metadata": {
        "colab": {
          "base_uri": "https://localhost:8080/"
        },
        "id": "fr4rmBZNvdlG",
        "outputId": "dd0cb359-38d9-4a6a-d63d-9fb46816236a"
      },
      "source": [
        "# check for nulls\n",
        "df.isnull().sum()"
      ],
      "execution_count": 4,
      "outputs": [
        {
          "output_type": "execute_result",
          "data": {
            "text/plain": [
              "Season     0\n",
              "Goals      0\n",
              "Assists    0\n",
              "Y Cards    0\n",
              "R Cards    0\n",
              "dtype: int64"
            ]
          },
          "metadata": {},
          "execution_count": 4
        }
      ]
    },
    {
      "cell_type": "code",
      "metadata": {
        "colab": {
          "base_uri": "https://localhost:8080/"
        },
        "id": "3ntzB1l5vxao",
        "outputId": "8851a7b4-827f-412e-e73c-515f071948b1"
      },
      "source": [
        "# list number of unique values\n",
        "# we see if this matches with the data gives\n",
        "df.nunique()"
      ],
      "execution_count": null,
      "outputs": [
        {
          "output_type": "execute_result",
          "data": {
            "text/plain": [
              "Season     19\n",
              "Goals      16\n",
              "Assists    10\n",
              "Y Cards     8\n",
              "R Cards     3\n",
              "dtype: int64"
            ]
          },
          "metadata": {},
          "execution_count": 17
        }
      ]
    },
    {
      "cell_type": "code",
      "metadata": {
        "colab": {
          "base_uri": "https://localhost:8080/",
          "height": 295
        },
        "id": "tT0NkpSev-ie",
        "outputId": "688c65d8-148a-4675-f857-e60b22cb3c4d"
      },
      "source": [
        "# statistics\n",
        "df.describe()"
      ],
      "execution_count": null,
      "outputs": [
        {
          "output_type": "execute_result",
          "data": {
            "text/html": [
              "<div>\n",
              "<style scoped>\n",
              "    .dataframe tbody tr th:only-of-type {\n",
              "        vertical-align: middle;\n",
              "    }\n",
              "\n",
              "    .dataframe tbody tr th {\n",
              "        vertical-align: top;\n",
              "    }\n",
              "\n",
              "    .dataframe thead th {\n",
              "        text-align: right;\n",
              "    }\n",
              "</style>\n",
              "<table border=\"1\" class=\"dataframe\">\n",
              "  <thead>\n",
              "    <tr style=\"text-align: right;\">\n",
              "      <th></th>\n",
              "      <th>Goals</th>\n",
              "      <th>Y Cards</th>\n",
              "    </tr>\n",
              "  </thead>\n",
              "  <tbody>\n",
              "    <tr>\n",
              "      <th>count</th>\n",
              "      <td>20.000000</td>\n",
              "      <td>20.000000</td>\n",
              "    </tr>\n",
              "    <tr>\n",
              "      <th>mean</th>\n",
              "      <td>24.000000</td>\n",
              "      <td>3.800000</td>\n",
              "    </tr>\n",
              "    <tr>\n",
              "      <th>std</th>\n",
              "      <td>14.093672</td>\n",
              "      <td>2.067289</td>\n",
              "    </tr>\n",
              "    <tr>\n",
              "      <th>min</th>\n",
              "      <td>0.000000</td>\n",
              "      <td>1.000000</td>\n",
              "    </tr>\n",
              "    <tr>\n",
              "      <th>25%</th>\n",
              "      <td>15.000000</td>\n",
              "      <td>2.750000</td>\n",
              "    </tr>\n",
              "    <tr>\n",
              "      <th>50%</th>\n",
              "      <td>26.000000</td>\n",
              "      <td>3.500000</td>\n",
              "    </tr>\n",
              "    <tr>\n",
              "      <th>75%</th>\n",
              "      <td>31.750000</td>\n",
              "      <td>4.250000</td>\n",
              "    </tr>\n",
              "    <tr>\n",
              "      <th>max</th>\n",
              "      <td>48.000000</td>\n",
              "      <td>9.000000</td>\n",
              "    </tr>\n",
              "  </tbody>\n",
              "</table>\n",
              "</div>"
            ],
            "text/plain": [
              "           Goals    Y Cards\n",
              "count  20.000000  20.000000\n",
              "mean   24.000000   3.800000\n",
              "std    14.093672   2.067289\n",
              "min     0.000000   1.000000\n",
              "25%    15.000000   2.750000\n",
              "50%    26.000000   3.500000\n",
              "75%    31.750000   4.250000\n",
              "max    48.000000   9.000000"
            ]
          },
          "metadata": {},
          "execution_count": 18
        }
      ]
    },
    {
      "cell_type": "code",
      "metadata": {
        "colab": {
          "base_uri": "https://localhost:8080/",
          "height": 386
        },
        "id": "QpN-liRRwqUC",
        "outputId": "dff1a879-9620-4522-e986-f5c7c619ef39"
      },
      "source": [
        "# check the scale\n",
        "sns.catplot(data = df, kind = 'box', height = 5, aspect = 2)"
      ],
      "execution_count": null,
      "outputs": [
        {
          "output_type": "execute_result",
          "data": {
            "text/plain": [
              "<seaborn.axisgrid.FacetGrid at 0x7f7b8656dcd0>"
            ]
          },
          "metadata": {},
          "execution_count": 27
        },
        {
          "output_type": "display_data",
          "data": {
            "image/png": "[encoded data removed]",
            "text/plain": [
              "<Figure size 720x360 with 1 Axes>"
            ]
          },
          "metadata": {
            "needs_background": "light"
          }
        }
      ]
    },
    {
      "cell_type": "code",
      "metadata": {
        "colab": {
          "base_uri": "https://localhost:8080/",
          "height": 386
        },
        "id": "GY8kAIQJxxeW",
        "outputId": "1f5ea021-5a7b-4cc3-958e-db2f7b42b83d"
      },
      "source": [
        "sns.catplot(x = 'Y Cards', data = df, kind = 'count', height = 5, aspect = 2)"
      ],
      "execution_count": null,
      "outputs": [
        {
          "output_type": "execute_result",
          "data": {
            "text/plain": [
              "<seaborn.axisgrid.FacetGrid at 0x7f7b86674390>"
            ]
          },
          "metadata": {},
          "execution_count": 26
        },
        {
          "output_type": "display_data",
          "data": {
            "image/png": "[encoded data removed]",
            "text/plain": [
              "<Figure size 720x360 with 1 Axes>"
            ]
          },
          "metadata": {
            "needs_background": "light"
          }
        }
      ]
    },
    {
      "cell_type": "code",
      "metadata": {
        "colab": {
          "base_uri": "https://localhost:8080/",
          "height": 331
        },
        "id": "D-6f34Fgy6a2",
        "outputId": "cfe61ce0-558f-49eb-9386-0e146570a934"
      },
      "source": [
        "#histagram\n",
        "df.hist()"
      ],
      "execution_count": null,
      "outputs": [
        {
          "output_type": "execute_result",
          "data": {
            "text/plain": [
              "array([[<matplotlib.axes._subplots.AxesSubplot object at 0x7f7b8638de10>,\n",
              "        <matplotlib.axes._subplots.AxesSubplot object at 0x7f7b86328150>]],\n",
              "      dtype=object)"
            ]
          },
          "metadata": {},
          "execution_count": 29
        },
        {
          "output_type": "display_data",
          "data": {
            "image/png": "[encoded data removed]",
            "text/plain": [
              "<Figure size 432x288 with 2 Axes>"
            ]
          },
          "metadata": {
            "needs_background": "light"
          }
        }
      ]
    },
    {
      "cell_type": "code",
      "metadata": {
        "colab": {
          "base_uri": "https://localhost:8080/",
          "height": 285
        },
        "id": "jsrsLH2kF_Wm",
        "outputId": "198fabc5-485d-4a05-814b-157765f025e5"
      },
      "source": [
        "df.boxplot()"
      ],
      "execution_count": 5,
      "outputs": [
        {
          "output_type": "execute_result",
          "data": {
            "text/plain": [
              "<matplotlib.axes._subplots.AxesSubplot at 0x7f35256bafd0>"
            ]
          },
          "metadata": {},
          "execution_count": 5
        },
        {
          "output_type": "display_data",
          "data": {
            "image/png": "[encoded data removed]",
            "text/plain": [
              "<Figure size 432x288 with 1 Axes>"
            ]
          },
          "metadata": {
            "needs_background": "light"
          }
        }
      ]
    },
    {
      "cell_type": "code",
      "metadata": {
        "colab": {
          "base_uri": "https://localhost:8080/",
          "height": 248
        },
        "id": "bFI56ESPGwAM",
        "outputId": "ea772e4c-e957-42d8-d7a1-fc08199b8795"
      },
      "source": [
        "#3d\n",
        "#creating the values taken from data\n",
        "x = [2, 4, 6, 8, 10, 12, 14, 16, 18, 20]\n",
        "y = [2, 4, 6, 8, 10, 12, 14, 16, 18, 20]\n",
        "z = [5, 10, 15, 20, 25, 30, 35, 40, 45, 50]\n",
        "\n",
        "#creating the figure\n",
        "fig = plt.figure()\n",
        "\n",
        "#crearting the 3d coordinate axes\n",
        "ax = plt.axes(projection = '3d')\n",
        "ax.plot3D(x, y, z)\n",
        "plt.show()"
      ],
      "execution_count": 7,
      "outputs": [
        {
          "output_type": "display_data",
          "data": {
            "image/png": "[encoded data removed]",
            "text/plain": [
              "<Figure size 432x288 with 1 Axes>"
            ]
          },
          "metadata": {
            "needs_background": "light"
          }
        }
      ]
    },
    {
      "cell_type": "code",
      "metadata": {
        "colab": {
          "base_uri": "https://localhost:8080/",
          "height": 432
        },
        "id": "Q8ure0JMIof8",
        "outputId": "9455ff25-4092-4772-8859-52a0b6f65856"
      },
      "source": [
        "corrMatrix = df.corr()\n",
        "plt.figure(figsize = (10, 7))\n",
        "sns.heatmap(corrMatrix)\n",
        "plt.show()"
      ],
      "execution_count": 12,
      "outputs": [
        {
          "output_type": "display_data",
          "data": {
            "image/png": "[encoded data removed]",
            "text/plain": [
              "<Figure size 720x504 with 2 Axes>"
            ]
          },
          "metadata": {
            "needs_background": "light"
          }
        }
      ]
    },
    {
      "cell_type": "markdown",
      "metadata": {
        "id": "NOGuITC8L5sV"
      },
      "source": [
        "\"data science\" is using statistical analysis to solve problems."
      ]
    },
    {
      "cell_type": "markdown",
      "metadata": {
        "id": "GGffqyFdML4F"
      },
      "source": [
        "\"lists\" and \"tuples\" are both a group of itmes used in prommaming, however, a \"list\" can be changed by adding and removing items from it, a \"tuple\" cannot be modified."
      ]
    },
    {
      "cell_type": "markdown",
      "metadata": {
        "id": "94zfswQ0MklG"
      },
      "source": [
        "\"scikit\" = provides a selection of tools for statistical modeling. (classification od data, regression, clustering, and dimensionality)\n",
        "\n",
        "\"pandas\" allows the upload of a dataset into the program.\n",
        "\n",
        "\"tensorflow\" allows the program to run fast numerical computing\n",
        "\n",
        "\"numpy\" is a general-purpose array-processing package. it provides a high-performance multidimensional array object and tools for working with tense arrays.\n",
        "\n",
        "\"tkinter\" allows python to be faster and to fastly create a graphical user interface.\n"
      ]
    },
    {
      "cell_type": "code",
      "metadata": {
        "id": "NceuiH6NOCEZ"
      },
      "source": [
        ""
      ],
      "execution_count": null,
      "outputs": []
    }
  ]
}