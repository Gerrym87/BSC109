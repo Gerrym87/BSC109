{
  "nbformat": 4,
  "nbformat_minor": 0,
  "metadata": {
    "colab": {
      "name": "11/1/21 lecture.ipynb",
      "provenance": []
    },
    "kernelspec": {
      "name": "python3",
      "display_name": "Python 3"
    },
    "language_info": {
      "name": "python"
    }
  },
  "cells": [
    {
      "cell_type": "code",
      "metadata": {
        "colab": {
          "base_uri": "https://localhost:8080/"
        },
        "id": "RDMfZM_gs_kP",
        "outputId": "c4f6cf60-d643-471a-ecf3-a41d84bc5433"
      },
      "source": [
        "my_list = [10, 20, 30, 40, 50, 60]\n",
        "print(my_list[:-2])\n",
        "print(my_list[:-1])\n",
        "print(len(my_list))"
      ],
      "execution_count": 1,
      "outputs": [
        {
          "output_type": "stream",
          "name": "stdout",
          "text": [
            "[10, 20, 30, 40]\n",
            "[10, 20, 30, 40, 50]\n",
            "6\n"
          ]
        }
      ]
    },
    {
      "cell_type": "code",
      "metadata": {
        "colab": {
          "base_uri": "https://localhost:8080/"
        },
        "id": "76UwUu3wtbZ_",
        "outputId": "f37ef3ad-ba47-4a22-fcc3-60ad92504f72"
      },
      "source": [
        "print(my_list[:2])\n",
        "print(my_list[2:])\n",
        "print(my_list[-2:])"
      ],
      "execution_count": 2,
      "outputs": [
        {
          "output_type": "stream",
          "name": "stdout",
          "text": [
            "[10, 20]\n",
            "[30, 40, 50, 60]\n",
            "[50, 60]\n"
          ]
        }
      ]
    },
    {
      "cell_type": "code",
      "metadata": {
        "id": "ckceQI_cttBM"
      },
      "source": [
        "# import data\n",
        "import pandas as pd\n",
        "\n",
        "df = pd.read_csv('')\n",
        "df.head()"
      ],
      "execution_count": null,
      "outputs": []
    },
    {
      "cell_type": "code",
      "metadata": {
        "id": "FPfNX6jjwXxc"
      },
      "source": [
        "# create a histagram\n",
        "df.hist()"
      ],
      "execution_count": null,
      "outputs": []
    },
    {
      "cell_type": "code",
      "metadata": {
        "id": "vYdQgCj4wdGy"
      },
      "source": [
        "# statistics\n",
        "df.describe()"
      ],
      "execution_count": null,
      "outputs": []
    },
    {
      "cell_type": "code",
      "metadata": {
        "id": "NXmu8QR5yoQr"
      },
      "source": [
        "# charts\n",
        "\n"
      ],
      "execution_count": null,
      "outputs": []
    }
  ]
}