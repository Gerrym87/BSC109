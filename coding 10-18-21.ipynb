{
  "nbformat": 4,
  "nbformat_minor": 0,
  "metadata": {
    "colab": {
      "name": "Untitled21.ipynb",
      "provenance": []
    },
    "kernelspec": {
      "name": "python3",
      "display_name": "Python 3"
    },
    "language_info": {
      "name": "python"
    }
  },
  "cells": [
    {
      "cell_type": "code",
      "metadata": {
        "id": "tV6Ui_q7i5mT"
      },
      "source": [
        "# get a random number\n",
        "\n",
        "import random\n",
        "\n",
        "def getNum():\n",
        "  return random.randint(1, 100)\n",
        "\n",
        "x = getNum  \n",
        "\n",
        "# assigns s to getNum"
      ],
      "execution_count": 2,
      "outputs": []
    },
    {
      "cell_type": "code",
      "metadata": {
        "colab": {
          "base_uri": "https://localhost:8080/"
        },
        "id": "-gjbadDtjUZ_",
        "outputId": "307786ab-a67c-4319-ffeb-f9547388aa75"
      },
      "source": [
        "# roll dice\n",
        "\n",
        "def dice():\n",
        "  return random.randint(1, 6)\n",
        "\n",
        "# run function\n",
        "for i in range(10):\n",
        "  print(f\"the random dice roll is : {dice()}\")  "
      ],
      "execution_count": 4,
      "outputs": [
        {
          "output_type": "stream",
          "name": "stdout",
          "text": [
            "the random dice roll is : 5\n",
            "the random dice roll is : 4\n",
            "the random dice roll is : 2\n",
            "the random dice roll is : 5\n",
            "the random dice roll is : 1\n",
            "the random dice roll is : 3\n",
            "the random dice roll is : 6\n",
            "the random dice roll is : 4\n",
            "the random dice roll is : 3\n",
            "the random dice roll is : 5\n"
          ]
        }
      ]
    },
    {
      "cell_type": "code",
      "metadata": {
        "colab": {
          "base_uri": "https://localhost:8080/"
        },
        "id": "tFcXF612juAT",
        "outputId": "70e669eb-f7b6-4788-b9ff-b43f1fed5643"
      },
      "source": [
        "#check if coin flips are really random\n",
        "import random\n",
        "\n",
        "def coinFlip():\n",
        "  return random.randint(1, 100) % 2\n",
        "\n",
        "#check the function\n",
        "heads = 0\n",
        "tails = 0  \n",
        "for i in range(10000):\n",
        "  x = coinFlip()\n",
        "  if x == 0:\n",
        "    heads += 1\n",
        "  else:\n",
        "    tails += 1\n",
        "\n",
        "print(f'there are {heads/10000:.2%} percent of heads.')\n",
        "print(f'there are {tails/10000:.2%} percent of tails')      "
      ],
      "execution_count": 9,
      "outputs": [
        {
          "output_type": "stream",
          "name": "stdout",
          "text": [
            "there are 50.02% percent of heads.\n",
            "there are 49.98% percent of tails\n"
          ]
        }
      ]
    },
    {
      "cell_type": "code",
      "metadata": {
        "colab": {
          "base_uri": "https://localhost:8080/"
        },
        "id": "qxPMc5umlqIO",
        "outputId": "4795748c-1a91-4331-d91f-042498aa2960"
      },
      "source": [
        "#return total of a range\n",
        "\n",
        "def theTotal(theStart, theFinish):\n",
        "  total = 0\n",
        "  for i in range(theStart, theFinish+1):\n",
        "    total += i\n",
        "  return total\n",
        "\n",
        "#test the funsction\n",
        "startNum = int(input('where shall I Start? '))\n",
        "finishNum = int(input('where shall I end? '))\n",
        "\n",
        "print(f'the total from start to finish is {theTotal(startNum, finishNum)}')\n"
      ],
      "execution_count": 11,
      "outputs": [
        {
          "output_type": "stream",
          "name": "stdout",
          "text": [
            "where shall I Start? 1\n",
            "where shall I end? 10\n",
            "the total from start to finish is 55\n"
          ]
        }
      ]
    },
    {
      "cell_type": "code",
      "metadata": {
        "colab": {
          "base_uri": "https://localhost:8080/"
        },
        "id": "3EyHJUFpm1w2",
        "outputId": "e498ee20-0c79-4b80-815a-2b05165183e5"
      },
      "source": [
        "#this program calculates a retail item's sale price\n",
        "\n",
        "DISCOUNT_PERCENTAGE = 0.20\n",
        "\n",
        "def main():\n",
        "  reg_price = get_regular_price()\n",
        "  sale_price = reg_price - discount(reg_price)\n",
        "  print(f'the sale price is ${sale_price:,.2f}.')\n",
        "\n",
        "def get_regular_price():\n",
        "  price = float(input(\"Enter the item's regular price: \"))\n",
        "  return price\n",
        "\n",
        "def discount(price):\n",
        "  return price * DISCOUNT_PERCENTAGE\n",
        "\n",
        "main()      "
      ],
      "execution_count": 14,
      "outputs": [
        {
          "output_type": "stream",
          "name": "stdout",
          "text": [
            "Enter the item's regular price: 150\n",
            "the sale price is $120.00.\n"
          ]
        }
      ]
    },
    {
      "cell_type": "code",
      "metadata": {
        "id": "6UOJ6oTjoGWF"
      },
      "source": [
        "#typical commission accounting function\n",
        "\n",
        "def determine_comm_rate(sales):\n",
        "  if sales < 10000.00:\n",
        "    return .10\n",
        "  elif sales >= 10000 and sales <= 14999.99:\n",
        "    return .12\n",
        "  elif sales >= 15000 and sales <= 17999.99:\n",
        "    return .14\n",
        "  elif sales >= 18000 and sales <= 21999.99:\n",
        "    return .16\n",
        "  else:\n",
        "    return .18        \n"
      ],
      "execution_count": 15,
      "outputs": []
    },
    {
      "cell_type": "code",
      "metadata": {
        "colab": {
          "base_uri": "https://localhost:8080/"
        },
        "id": "9ac3vI_PrO1a",
        "outputId": "1c3be2e3-8c0d-4f78-ca08-8d86968b7d36"
      },
      "source": [
        "#return a boolean value\n",
        "\n",
        "def checkEvenOdd(number):\n",
        "  if (number % 2) == 0:\n",
        "    print('the number is even.')\n",
        "    return 0\n",
        "  else:\n",
        "    print('the numebr is odd.')\n",
        "    return 1\n",
        "\n",
        "val = checkEvenOdd(75)"
      ],
      "execution_count": 24,
      "outputs": [
        {
          "output_type": "stream",
          "name": "stdout",
          "text": [
            "the numebr is odd.\n"
          ]
        }
      ]
    },
    {
      "cell_type": "code",
      "metadata": {
        "colab": {
          "base_uri": "https://localhost:8080/"
        },
        "id": "T7GR2uowsQOl",
        "outputId": "01e0bae7-5a7f-41f1-ab8b-1a0fe01db690"
      },
      "source": [
        "def name():\n",
        "  first_name = input('what is your first name? ')\n",
        "  last_name = input('what is your last name? ')\n",
        "  return first_name, last_name\n",
        "\n",
        "#test the function\n",
        "first, last = name()\n",
        "print(f'your first name is: {first}')\n",
        "print(f'your last name is: {last}')  "
      ],
      "execution_count": 25,
      "outputs": [
        {
          "output_type": "stream",
          "name": "stdout",
          "text": [
            "what is your first name? gerlando\n",
            "what is your last name? marcehtta\n",
            "your first name is: gerlando\n",
            "your last name is: marcehtta\n"
          ]
        }
      ]
    },
    {
      "cell_type": "code",
      "metadata": {
        "colab": {
          "base_uri": "https://localhost:8080/"
        },
        "id": "zdvfg3mSs16r",
        "outputId": "2d625135-5eae-45a4-c707-8827cae95de1"
      },
      "source": [
        "#return None from a function\n",
        "\n",
        "def divide(num1, num2):\n",
        "  if num2 == 0:\n",
        "    return None\n",
        "  else:\n",
        "    return (num1/num2)\n",
        "\n",
        "#when checking a None use 'is'\n",
        "val = divide(7, 0)\n",
        "if val is None:\n",
        "  print('cannot divide by zero.')      "
      ],
      "execution_count": 26,
      "outputs": [
        {
          "output_type": "stream",
          "name": "stdout",
          "text": [
            "cannot divide by zero.\n"
          ]
        }
      ]
    }
  ]
}