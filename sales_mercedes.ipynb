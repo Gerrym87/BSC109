{
  "nbformat": 4,
  "nbformat_minor": 0,
  "metadata": {
    "colab": {
      "name": "Untitled19.ipynb",
      "provenance": []
    },
    "kernelspec": {
      "name": "python3",
      "display_name": "Python 3"
    },
    "language_info": {
      "name": "python"
    }
  },
  "cells": [
    {
      "cell_type": "code",
      "metadata": {
        "colab": {
          "base_uri": "https://localhost:8080/"
        },
        "id": "kc9mbKf0fv_U",
        "outputId": "85c5caac-f5d4-4306-e0e8-3016688abda8"
      },
      "source": [
        "def greeting():\n",
        "  print(\"hello welcome to mercedes?\")\n",
        "  been_here = input(\"have you been here before? (yes/no)\")\n",
        "  if (been_here == \"yes\"):\n",
        "    print(\"welcome back.\")\n",
        "  else:\n",
        "    print(\"i'll get you a sales person.\")\n",
        "\n",
        "def waiting_time(val):\n",
        "  for i in range(val, 0, -1):\n",
        "    print(i)\n",
        "\n",
        "def car_choice_direction():\n",
        "  car = input(\"which car would you like to see? (mercedes, BMW, Audi, Jaguar)\")\n",
        "\n",
        "  if (car == \"mercedes\"):\n",
        "    print(\"go to the north lot\")\n",
        "  elif (car == \"BMW\"):\n",
        "    print(\"go to the east lot\")\n",
        "  elif (car == \"Audi\"):\n",
        "    print(\"go the south lot\")\n",
        "  elif (car == \"Jaguar\"):\n",
        "    print(\"go to the west lot\")      \n",
        "\n",
        "greeting()\n",
        "waiting_time(3)\n",
        "car_choice_direction()\n",
        "\n",
        "\n"
      ],
      "execution_count": 2,
      "outputs": [
        {
          "output_type": "stream",
          "name": "stdout",
          "text": [
            "hello welcome to mercedes?\n",
            "have you been here before? (yes/no)yes\n",
            "welcome back.\n",
            "3\n",
            "2\n",
            "1\n",
            "which car would you like to see? (mercedes, BMW, Audi, Jaguar)BMW\n",
            "go to the east lot\n"
          ]
        }
      ]
    }
  ]
}