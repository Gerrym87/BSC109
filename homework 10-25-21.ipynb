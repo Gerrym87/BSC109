{
  "nbformat": 4,
  "nbformat_minor": 0,
  "metadata": {
    "colab": {
      "name": "Untitled24.ipynb",
      "provenance": []
    },
    "kernelspec": {
      "name": "python3",
      "display_name": "Python 3"
    },
    "language_info": {
      "name": "python"
    }
  },
  "cells": [
    {
      "cell_type": "markdown",
      "metadata": {
        "id": "mn2dVgKU54Sg"
      },
      "source": [
        "Home Work 10/24/21"
      ]
    },
    {
      "cell_type": "code",
      "metadata": {
        "colab": {
          "base_uri": "https://localhost:8080/"
        },
        "id": "VpuyJgBB50GX",
        "outputId": "1c39c8fd-ccef-4ec1-b6ba-a2a2b77f3866"
      },
      "source": [
        "#Create functions to do the following: max, min, average, \n",
        "#standard deviation, and geometric average. \n",
        "\n",
        "import statistics\n",
        "\n",
        "from scipy.stats import gmean\n",
        "\n",
        "x = (435, 43, 1, -5, 43, 99, 102, 35, -1)\n",
        "avg_value = sum(x)/len(x)\n",
        "print(\"the maximum numebr in the set is: \", max(x))\n",
        "print(\"the minimum number in the set is: \", min(x))\n",
        "print(\"the mean value of the set is: \", avg_value)\n",
        "print(\"the stndard deviation of the set is: \", statistics.stdev(x))\n",
        "print(\"the geometric mean of the set is: \", gmean(x))"
      ],
      "execution_count": 16,
      "outputs": [
        {
          "output_type": "stream",
          "name": "stdout",
          "text": [
            "the maximum numebr in the set is:  435\n",
            "the minimum number in the set is:  -5\n",
            "the mean value of the set is:  83.55555555555556\n",
            "the stndard deviation of the set is:  137.63458060305112\n",
            "the geometric mean of the set is:  nan\n"
          ]
        },
        {
          "output_type": "stream",
          "name": "stderr",
          "text": [
            "/usr/local/lib/python3.7/dist-packages/scipy/stats/stats.py:330: RuntimeWarning: invalid value encountered in log\n",
            "  log_a = np.log(np.array(a, dtype=dtype))\n"
          ]
        }
      ]
    },
    {
      "cell_type": "code",
      "metadata": {
        "colab": {
          "base_uri": "https://localhost:8080/"
        },
        "id": "IcCdsfNz-llp",
        "outputId": "98a7e224-b1cf-44ff-f2b6-e0f817e92b5b"
      },
      "source": [
        "#Create a function that asks the user which shape they would like to analyze. \n",
        "#It should then call other functions based on this and \n",
        "#return the area of the shape.  \n",
        "#The triangle function should take in the base and height, \n",
        "#the circle function should take in the radius, \n",
        "#and the square function should take in the side length.\n",
        "\n",
        "shape = input(\"welcome, which shape would you like to analyze? (triangle, circle, square) = \")\n",
        "if shape == (\"triangle\"):\n",
        "  B = float(input(\"enter the base of the triangle: \"))\n",
        "  H = float(input(\"enter the height of the triangle: \"))\n",
        "  A = (B * H)/2\n",
        "  print(\"the area of the triangle is: %.2f\" %A)\n",
        "\n",
        "elif shape == (\"circle\"):\n",
        "  PI = 3.14\n",
        "  r = float(input(\"enter the radius of the circle: \"))\n",
        "  A = PI * r * r\n",
        "  print(\"the area of the circle is: %.2f\" %A)\n",
        "  \n",
        "elif shape == (\"square\"):\n",
        "  B = float(input(\"enter the base of the square: \"))\n",
        "  A = B * B\n",
        "  print(A)"
      ],
      "execution_count": 36,
      "outputs": [
        {
          "output_type": "stream",
          "name": "stdout",
          "text": [
            "welcome, which shape would you like to analyze? (triangle, circle, square) = square\n",
            "enter the base of the square: 44\n",
            "1936.0\n"
          ]
        }
      ]
    },
    {
      "cell_type": "code",
      "metadata": {
        "colab": {
          "base_uri": "https://localhost:8080/"
        },
        "id": "_6LlT1IUE9dV",
        "outputId": "59bbb996-df08-40ae-8bae-977211158587"
      },
      "source": [
        "#Create a function that takes in a list and returns the list doubled. \n",
        "#It should ask the user for option one or two. \n",
        "#If the user chooses option one it should return the list doubled such as [1 2 3] becoming [1 2 3 1 2 3], \n",
        "#if the user chooses option two then is should return the list such as [1 2 3] becoming [2 4 6].\n",
        "\n",
        "numbers = list(range(1, 40, 5))\n",
        "print(\"the list of numbers between 1 and 40 every 5 is :\", numbers)\n",
        "\n",
        "x = input(\"which option would you like? (twice, doubled): \")\n",
        "if x == (\"twice\"):\n",
        "  print(\"the list printed twice is: \", numbers*2)\n",
        "elif x == (\"doubled\"):\n",
        "  res = [ele + ele for ele in numbers]\n",
        "  print(\"the value of the list doubled are: \", res)  \n",
        "\n"
      ],
      "execution_count": 41,
      "outputs": [
        {
          "output_type": "stream",
          "name": "stdout",
          "text": [
            "the list of numbers between 1 and 40 every 5 is : [1, 6, 11, 16, 21, 26, 31, 36]\n",
            "which option would you like? (twice, doubled): doubled\n",
            "the value of the list doubled are:  [2, 12, 22, 32, 42, 52, 62, 72]\n"
          ]
        }
      ]
    }
  ]
}