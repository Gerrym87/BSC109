{
  "nbformat": 4,
  "nbformat_minor": 0,
  "metadata": {
    "colab": {
      "name": "Untitled24.ipynb",
      "provenance": [],
      "collapsed_sections": []
    },
    "kernelspec": {
      "name": "python3",
      "display_name": "Python 3"
    },
    "language_info": {
      "name": "python"
    }
  },
  "cells": [
    {
      "cell_type": "markdown",
      "metadata": {
        "id": "mn2dVgKU54Sg"
      },
      "source": [
        "Home Work 10/24/21"
      ]
    },
    {
      "cell_type": "code",
      "metadata": {
        "colab": {
          "base_uri": "https://localhost:8080/"
        },
        "id": "VpuyJgBB50GX",
        "outputId": "1c39c8fd-ccef-4ec1-b6ba-a2a2b77f3866"
      },
      "source": [
        "#Create functions to do the following: max, min, average, \n",
        "#standard deviation, and geometric average. \n",
        "\n",
        "import statistics\n",
        "\n",
        "from scipy.stats import gmean\n",
        "\n",
        "x = (435, 43, 1, -5, 43, 99, 102, 35, -1)\n",
        "avg_value = sum(x)/len(x)\n",
        "print(\"the maximum numebr in the set is: \", max(x))\n",
        "print(\"the minimum number in the set is: \", min(x))\n",
        "print(\"the mean value of the set is: \", avg_value)\n",
        "print(\"the stndard deviation of the set is: \", statistics.stdev(x))\n",
        "print(\"the geometric mean of the set is: \", gmean(x))"
      ],
      "execution_count": null,
      "outputs": [
        {
          "output_type": "stream",
          "name": "stdout",
          "text": [
            "the maximum numebr in the set is:  435\n",
            "the minimum number in the set is:  -5\n",
            "the mean value of the set is:  83.55555555555556\n",
            "the stndard deviation of the set is:  137.63458060305112\n",
            "the geometric mean of the set is:  nan\n"
          ]
        },
        {
          "output_type": "stream",
          "name": "stderr",
          "text": [
            "/usr/local/lib/python3.7/dist-packages/scipy/stats/stats.py:330: RuntimeWarning: invalid value encountered in log\n",
            "  log_a = np.log(np.array(a, dtype=dtype))\n"
          ]
        }
      ]
    },
    {
      "cell_type": "code",
      "metadata": {
        "colab": {
          "base_uri": "https://localhost:8080/"
        },
        "id": "IcCdsfNz-llp",
        "outputId": "98a7e224-b1cf-44ff-f2b6-e0f817e92b5b"
      },
      "source": [
        "#Create a function that asks the user which shape they would like to analyze. \n",
        "#It should then call other functions based on this and \n",
        "#return the area of the shape.  \n",
        "#The triangle function should take in the base and height, \n",
        "#the circle function should take in the radius, \n",
        "#and the square function should take in the side length.\n",
        "\n",
        "shape = input(\"welcome, which shape would you like to analyze? (triangle, circle, square) = \")\n",
        "if shape == (\"triangle\"):\n",
        "  B = float(input(\"enter the base of the triangle: \"))\n",
        "  H = float(input(\"enter the height of the triangle: \"))\n",
        "  A = (B * H)/2\n",
        "  print(\"the area of the triangle is: %.2f\" %A)\n",
        "\n",
        "elif shape == (\"circle\"):\n",
        "  PI = 3.14\n",
        "  r = float(input(\"enter the radius of the circle: \"))\n",
        "  A = PI * r * r\n",
        "  print(\"the area of the circle is: %.2f\" %A)\n",
        "  \n",
        "elif shape == (\"square\"):\n",
        "  B = float(input(\"enter the base of the square: \"))\n",
        "  A = B * B\n",
        "  print(A)"
      ],
      "execution_count": null,
      "outputs": [
        {
          "output_type": "stream",
          "name": "stdout",
          "text": [
            "welcome, which shape would you like to analyze? (triangle, circle, square) = square\n",
            "enter the base of the square: 44\n",
            "1936.0\n"
          ]
        }
      ]
    },
    {
      "cell_type": "code",
      "metadata": {
        "colab": {
          "base_uri": "https://localhost:8080/"
        },
        "id": "_6LlT1IUE9dV",
        "outputId": "59bbb996-df08-40ae-8bae-977211158587"
      },
      "source": [
        "#Create a function that takes in a list and returns the list doubled. \n",
        "#It should ask the user for option one or two. \n",
        "#If the user chooses option one it should return the list doubled such as [1 2 3] becoming [1 2 3 1 2 3], \n",
        "#if the user chooses option two then is should return the list such as [1 2 3] becoming [2 4 6].\n",
        "\n",
        "numbers = list(range(1, 40, 5))\n",
        "print(\"the list of numbers between 1 and 40 every 5 is :\", numbers)\n",
        "\n",
        "x = input(\"which option would you like? (twice, doubled): \")\n",
        "if x == (\"twice\"):\n",
        "  print(\"the list printed twice is: \", numbers*2)\n",
        "elif x == (\"doubled\"):\n",
        "  res = [ele + ele for ele in numbers]\n",
        "  print(\"the value of the list doubled are: \", res)  \n",
        "\n"
      ],
      "execution_count": null,
      "outputs": [
        {
          "output_type": "stream",
          "name": "stdout",
          "text": [
            "the list of numbers between 1 and 40 every 5 is : [1, 6, 11, 16, 21, 26, 31, 36]\n",
            "which option would you like? (twice, doubled): doubled\n",
            "the value of the list doubled are:  [2, 12, 22, 32, 42, 52, 62, 72]\n"
          ]
        }
      ]
    },
    {
      "cell_type": "code",
      "metadata": {
        "colab": {
          "base_uri": "https://localhost:8080/"
        },
        "id": "GMfPh-EY1l1d",
        "outputId": "1f6ac7bc-a2a2-4e58-9789-b6983164822e"
      },
      "source": [
        "#Create a function that takes in two lists \n",
        "#and concatenates the numbers in those lists. \n",
        "#For instance, if we have [1 2 3] and [7 8 9], \n",
        "#we should return [17 28 39].\n",
        "\n",
        "list_1 = list(range(1, 50, 3))\n",
        "print(\"list # 1: \", list_1)\n",
        "list_2 = list(range(1, 50, 4))\n",
        "print(\"list # 2: \", list_2)\n",
        "\n",
        "for i in list_2:\n",
        "  list_1.append(i)\n",
        "print(\"concatenated lists: \" + str(list_1))  \n"
      ],
      "execution_count": null,
      "outputs": [
        {
          "output_type": "stream",
          "name": "stdout",
          "text": [
            "list # 1:  [1, 4, 7, 10, 13, 16, 19, 22, 25, 28, 31, 34, 37, 40, 43, 46, 49]\n",
            "list # 2:  [1, 5, 9, 13, 17, 21, 25, 29, 33, 37, 41, 45, 49]\n",
            "concatenated lists: [1, 4, 7, 10, 13, 16, 19, 22, 25, 28, 31, 34, 37, 40, 43, 46, 49, 1, 5, 9, 13, 17, 21, 25, 29, 33, 37, 41, 45, 49]\n"
          ]
        }
      ]
    },
    {
      "cell_type": "code",
      "metadata": {
        "colab": {
          "base_uri": "https://localhost:8080/"
        },
        "id": "gFUP2FRM5oGb",
        "outputId": "12e90901-f438-4931-c848-e3d4c928d111"
      },
      "source": [
        "#Create a function that returns a list of primes up until the number passed in. \n",
        "#So if 100 is passed in, it should return all the primes up until 100.\n",
        "\n",
        "def primes():\n",
        "  for i in range(2, 101):\n",
        "    divisor = 0\n",
        "    for j in range(2, i):\n",
        "      if i%j == 0:\n",
        "        divisor += 1\n",
        "    if divisor == 0 or i == 2:\n",
        "      print(i)\n",
        "\n",
        "primes()"
      ],
      "execution_count": null,
      "outputs": [
        {
          "output_type": "stream",
          "name": "stdout",
          "text": [
            "2\n",
            "3\n",
            "5\n",
            "7\n",
            "11\n",
            "13\n",
            "17\n",
            "19\n",
            "23\n",
            "29\n",
            "31\n",
            "37\n",
            "41\n",
            "43\n",
            "47\n",
            "53\n",
            "59\n",
            "61\n",
            "67\n",
            "71\n",
            "73\n",
            "79\n",
            "83\n",
            "89\n",
            "97\n"
          ]
        }
      ]
    },
    {
      "cell_type": "code",
      "metadata": {
        "colab": {
          "base_uri": "https://localhost:8080/"
        },
        "id": "Eq2fRdUD7Gq8",
        "outputId": "36847cc6-93f6-4df5-dea3-26620ce0b7eb"
      },
      "source": [
        "#Write a function calculation() such that it can accept two variables \n",
        "#and calculate the addition and subtraction of it. \n",
        "#And also it must return both addition and subtraction in a single return call\n",
        "\n",
        "import math\n",
        "\n",
        "A = list(range(1, 25, 3))\n",
        "print(\"A list is: \", A)\n",
        "print(\"the sum of list A is: \", sum(A))\n",
        "B = list(range(1, 25, 4))\n",
        "print(\"B list is: \", B)\n",
        "print(\"the sum of list B: \", sum(B))\n",
        "\n",
        "print(\"the sum of both lists is: \", sum(A) + sum(B))\n",
        "print(\"the subtraction of both lists is: \", sum(A) - sum(B))"
      ],
      "execution_count": null,
      "outputs": [
        {
          "output_type": "stream",
          "name": "stdout",
          "text": [
            "A list is:  [1, 4, 7, 10, 13, 16, 19, 22]\n",
            "the sum of list A is:  92\n",
            "B list is:  [1, 5, 9, 13, 17, 21]\n",
            "the sum of list B:  66\n",
            "the sum of both lists is:  158\n",
            "the subtraction of both lists is:  26\n"
          ]
        }
      ]
    },
    {
      "cell_type": "code",
      "metadata": {
        "colab": {
          "base_uri": "https://localhost:8080/"
        },
        "id": "az0KGhqwqFOd",
        "outputId": "4a3a2c49-93da-4f19-e879-e859f60b813e"
      },
      "source": [
        "#If we list all the natural numbers below 10 that are multiples of 3 or 5, \n",
        "#we get 3, 5, 6 and 9. The sum of these multiples is 23.\n",
        "#Find the sum of all the multiples of 3 or 5 below 1000\n",
        "\n",
        "l = []\n",
        "for i in range(3, 1001):\n",
        "  if i % 3 == 0:\n",
        "    l.append(i)\n",
        "print(\"mutltiple of 3 below 1000 are: \", l)\n",
        "print(\"the sum of the mutltiples of 3s is:\", sum(l))\n",
        "\n",
        "m = []\n",
        "for i in range(3, 1001):\n",
        "  if i % 5 == 0:\n",
        "    m.append(i)\n",
        "print(\"multiple of 5 below 1000 are: \", m)\n",
        "print(\"the sum of the multiples of 5s is: \", sum(m))\n",
        "\n",
        "print(\"the sum of both lists is: \", sum(l + m))"
      ],
      "execution_count": 25,
      "outputs": [
        {
          "output_type": "stream",
          "name": "stdout",
          "text": [
            "mutltiple of 3 below 1000 are:  [3, 6, 9, 12, 15, 18, 21, 24, 27, 30, 33, 36, 39, 42, 45, 48, 51, 54, 57, 60, 63, 66, 69, 72, 75, 78, 81, 84, 87, 90, 93, 96, 99, 102, 105, 108, 111, 114, 117, 120, 123, 126, 129, 132, 135, 138, 141, 144, 147, 150, 153, 156, 159, 162, 165, 168, 171, 174, 177, 180, 183, 186, 189, 192, 195, 198, 201, 204, 207, 210, 213, 216, 219, 222, 225, 228, 231, 234, 237, 240, 243, 246, 249, 252, 255, 258, 261, 264, 267, 270, 273, 276, 279, 282, 285, 288, 291, 294, 297, 300, 303, 306, 309, 312, 315, 318, 321, 324, 327, 330, 333, 336, 339, 342, 345, 348, 351, 354, 357, 360, 363, 366, 369, 372, 375, 378, 381, 384, 387, 390, 393, 396, 399, 402, 405, 408, 411, 414, 417, 420, 423, 426, 429, 432, 435, 438, 441, 444, 447, 450, 453, 456, 459, 462, 465, 468, 471, 474, 477, 480, 483, 486, 489, 492, 495, 498, 501, 504, 507, 510, 513, 516, 519, 522, 525, 528, 531, 534, 537, 540, 543, 546, 549, 552, 555, 558, 561, 564, 567, 570, 573, 576, 579, 582, 585, 588, 591, 594, 597, 600, 603, 606, 609, 612, 615, 618, 621, 624, 627, 630, 633, 636, 639, 642, 645, 648, 651, 654, 657, 660, 663, 666, 669, 672, 675, 678, 681, 684, 687, 690, 693, 696, 699, 702, 705, 708, 711, 714, 717, 720, 723, 726, 729, 732, 735, 738, 741, 744, 747, 750, 753, 756, 759, 762, 765, 768, 771, 774, 777, 780, 783, 786, 789, 792, 795, 798, 801, 804, 807, 810, 813, 816, 819, 822, 825, 828, 831, 834, 837, 840, 843, 846, 849, 852, 855, 858, 861, 864, 867, 870, 873, 876, 879, 882, 885, 888, 891, 894, 897, 900, 903, 906, 909, 912, 915, 918, 921, 924, 927, 930, 933, 936, 939, 942, 945, 948, 951, 954, 957, 960, 963, 966, 969, 972, 975, 978, 981, 984, 987, 990, 993, 996, 999]\n",
            "the sum of the mutltiples of 3s is: 166833\n",
            "multiple of 5 below 1000 are:  [5, 10, 15, 20, 25, 30, 35, 40, 45, 50, 55, 60, 65, 70, 75, 80, 85, 90, 95, 100, 105, 110, 115, 120, 125, 130, 135, 140, 145, 150, 155, 160, 165, 170, 175, 180, 185, 190, 195, 200, 205, 210, 215, 220, 225, 230, 235, 240, 245, 250, 255, 260, 265, 270, 275, 280, 285, 290, 295, 300, 305, 310, 315, 320, 325, 330, 335, 340, 345, 350, 355, 360, 365, 370, 375, 380, 385, 390, 395, 400, 405, 410, 415, 420, 425, 430, 435, 440, 445, 450, 455, 460, 465, 470, 475, 480, 485, 490, 495, 500, 505, 510, 515, 520, 525, 530, 535, 540, 545, 550, 555, 560, 565, 570, 575, 580, 585, 590, 595, 600, 605, 610, 615, 620, 625, 630, 635, 640, 645, 650, 655, 660, 665, 670, 675, 680, 685, 690, 695, 700, 705, 710, 715, 720, 725, 730, 735, 740, 745, 750, 755, 760, 765, 770, 775, 780, 785, 790, 795, 800, 805, 810, 815, 820, 825, 830, 835, 840, 845, 850, 855, 860, 865, 870, 875, 880, 885, 890, 895, 900, 905, 910, 915, 920, 925, 930, 935, 940, 945, 950, 955, 960, 965, 970, 975, 980, 985, 990, 995, 1000]\n",
            "the sum of the multiples of 5s is:  100500\n",
            "the sum of both lists is:  267333\n"
          ]
        }
      ]
    },
    {
      "cell_type": "code",
      "metadata": {
        "colab": {
          "base_uri": "https://localhost:8080/"
        },
        "id": "aulwiy5MvqAF",
        "outputId": "abe5dac2-a3bf-43fa-93ac-a4b2742e8afa"
      },
      "source": [
        "#Find the sum of the even valued Fibonacci numbers below 500.\n",
        "\n",
        "cache = {0: 0, 1: 1}\n",
        "\n",
        "def fibonacci_of(n):\n",
        "  if n in cache:\n",
        "    return cache[n]\n",
        "  cache[n] = fibonacci_of(n - 1) + fibonacci_of(n - 2)\n",
        "  return cache[n]\n",
        "\n",
        "\n",
        "[fibonacci_of(n) for n in range(15)]"
      ],
      "execution_count": 41,
      "outputs": [
        {
          "output_type": "execute_result",
          "data": {
            "text/plain": [
              "[0, 1, 1, 2, 3, 5, 8, 13, 21, 34, 55, 89, 144, 233, 377]"
            ]
          },
          "metadata": {},
          "execution_count": 41
        }
      ]
    },
    {
      "cell_type": "code",
      "metadata": {
        "colab": {
          "base_uri": "https://localhost:8080/"
        },
        "id": "R6EkAHW1zaGE",
        "outputId": "e3f24508-9d7c-4ee0-83eb-756eec5997ff"
      },
      "source": [
        "#Extra Credit: https://projecteuler.net/problem=30 \n",
        "#Find the sum of all the numbers \n",
        "#that can be written as the sum of fifth powers of their digits.\n",
        "\n",
        "def compute():\n",
        "  result = sum(i for i in range(2, 1000000) if i == fifthPower_digitSum(i))\n",
        "  return str(result)\n",
        "\n",
        "def fifthPower_digitSum(n):\n",
        "  return sum(int(x)**5 for x in str(n))\n",
        "print(\"the sum of all numbers that can be written as the sum of fifth power is: \")\n",
        "print(compute())    "
      ],
      "execution_count": 42,
      "outputs": [
        {
          "output_type": "stream",
          "name": "stdout",
          "text": [
            "the sum of all numbers that can be written as the sum of fifth power is: \n",
            "443839\n"
          ]
        }
      ]
    },
    {
      "cell_type": "code",
      "metadata": {
        "id": "LyG_nC4L162z"
      },
      "source": [
        ""
      ],
      "execution_count": null,
      "outputs": []
    }
  ]
}