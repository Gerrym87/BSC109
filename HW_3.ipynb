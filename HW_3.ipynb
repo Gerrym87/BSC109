{
  "nbformat": 4,
  "nbformat_minor": 0,
  "metadata": {
    "colab": {
      "name": "HW#3.ipynb",
      "provenance": []
    },
    "kernelspec": {
      "name": "python3",
      "display_name": "Python 3"
    },
    "language_info": {
      "name": "python"
    }
  },
  "cells": [
    {
      "cell_type": "markdown",
      "metadata": {
        "id": "4qAFyifTOSgT"
      },
      "source": [
        "#Loan#\n",
        "\n",
        "On a loan of 21000 dollars with the 4% interest the client will pay *$3905* yearly per **five years**\n",
        "\n",
        "\n"
      ]
    },
    {
      "cell_type": "code",
      "metadata": {
        "colab": {
          "base_uri": "https://localhost:8080/"
        },
        "id": "uLtw9_LOMTDB",
        "outputId": "8f1f790b-905e-4111-a942-0993a0f0237a"
      },
      "source": [
        "future_value = float(input('enter the desired future value: '))\n",
        "rate = float(input('enter the annual interest rate: '))\n",
        "years = int(input('enter the number of years the money will grow: '))\n",
        "\n",
        "present_value = future_value / (1.0 + rate)**years\n",
        "\n",
        "print('you will need to deposit this amount:', present_value)\n"
      ],
      "execution_count": 14,
      "outputs": [
        {
          "output_type": "stream",
          "name": "stdout",
          "text": [
            "enter the desired future value: 21000\n",
            "enter the annual interest rate: .4\n",
            "enter the number of years the money will grow: 5\n",
            "you will need to deposit this amount: 3904.623073719285\n"
          ]
        }
      ]
    },
    {
      "cell_type": "markdown",
      "metadata": {
        "id": "U5ctzz0PR718"
      },
      "source": [
        "#Savings#\n",
        "\n",
        "The client in order to save approximately *10000 dollars* has to save monthly **$200**\n"
      ]
    },
    {
      "cell_type": "code",
      "metadata": {
        "colab": {
          "base_uri": "https://localhost:8080/"
        },
        "id": "rcI32lVtPWXF",
        "outputId": "0d092b20-df7f-4bdb-d84a-d9e00b8a3f7d"
      },
      "source": [
        "present_value = float(input('enter the present monthly saveings: '))\n",
        "months = int(input('enter amount of months: '))\n",
        "\n",
        "future_value = present_value *months\n",
        "\n",
        "print('you will need to deposit this amount:', future_value)\n"
      ],
      "execution_count": 25,
      "outputs": [
        {
          "output_type": "stream",
          "name": "stdout",
          "text": [
            "enter the present monthly saveings: 210\n",
            "enter amount of months: 48\n",
            "you will need to deposit this amount: 10080.0\n"
          ]
        }
      ]
    }
  ]
}